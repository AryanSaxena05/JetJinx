version https://git-lfs.github.com/spec/v1
oid sha256:cc2152c26e00fab43f5c189ec5768dc2e1cc71c9d81d821600d0021e6e2f2559
size 520259
